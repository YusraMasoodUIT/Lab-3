{
 "cells": [
  {
   "cell_type": "markdown",
   "metadata": {},
   "source": [
    "# LAB 3 (Class Task)"
   ]
  },
  {
   "cell_type": "markdown",
   "metadata": {},
   "source": [
    "### Program 1"
   ]
  },
  {
   "cell_type": "code",
   "execution_count": 2,
   "metadata": {},
   "outputs": [
    {
     "name": "stdout",
     "output_type": "stream",
     "text": [
      "Sum is:32\n",
      "Difference is:32\n",
      "Product is: 220\n",
      "Division is: 0.45454545454545453\n",
      "Integer Division is: 0\n",
      "Raised to the Power is: 10000000000000000000000\n",
      "Remainder is: 10\n"
     ]
    }
   ],
   "source": [
    "a = 10\n",
    "b = 22\n",
    "print (\"Sum is:\" + str(a+b)) # Using sum operator\n",
    "print (\"Difference is:\" + str(a+b)) # Using subtract operator\n",
    "print (\"Product is:\", a*b)# Using multiplication operator\n",
    "print (\"Division is:\", a/b)# Using division operator\n",
    "print (\"Integer Division is:\", a//b)# Using integer division operator\n",
    "print (\"Raised to the Power is:\", a**b)# Using power operator\n",
    "print (\"Remainder is:\", a%b)# Using modulo operator"
   ]
  },
  {
   "cell_type": "markdown",
   "metadata": {},
   "source": [
    "### Program 2"
   ]
  },
  {
   "cell_type": "code",
   "execution_count": 3,
   "metadata": {},
   "outputs": [
    {
     "name": "stdout",
     "output_type": "stream",
     "text": [
      "8\n",
      "2\n",
      "15\n",
      "1.6666666666666667\n",
      "2\n",
      "1\n",
      "125\n",
      "1\n",
      "7\n",
      "6\n",
      "0\n",
      "40\n"
     ]
    }
   ],
   "source": [
    "x = 5\n",
    "x += 3\n",
    "print(x) #addition\n",
    "x = 5\n",
    "x -= 3\n",
    "print(x)  #subtraction\n",
    "x = 5\n",
    "x *= 3\n",
    "print(x)  #multiplication\n",
    "x = 5\n",
    "x /= 3\n",
    "print(x)  #division\n",
    "x = 5\n",
    "x%=3\n",
    "print(x) #module\n",
    "x = 5\n",
    "x//=3\n",
    "print(x) #integral division\n",
    "x = 5\n",
    "x **= 3\n",
    "print(x) #power function\n",
    "x = 5\n",
    "x &= 3\n",
    "print(x) #AND operator\n",
    "x = 5\n",
    "x |= 3\n",
    "print(x) #division\n",
    "x = 5\n",
    "x ^= 3\n",
    "print(x) #division\n",
    "x = 5\n",
    "x >>= 3\n",
    "print(x) #greater than \n",
    "x = 5\n",
    "x <<= 3\n",
    "print(x) #less than"
   ]
  },
  {
   "cell_type": "markdown",
   "metadata": {},
   "source": [
    "### Program 3"
   ]
  },
  {
   "cell_type": "code",
   "execution_count": 4,
   "metadata": {},
   "outputs": [
    {
     "name": "stdout",
     "output_type": "stream",
     "text": [
      "X is equal to Y: False\n",
      "X is not equal to Y: True\n",
      "X is Greater than Y: True\n",
      "X is Less than Y: False\n",
      "X is Greater than or equal to Y: True\n",
      "X is Less than or equal to Y: False\n"
     ]
    }
   ],
   "source": [
    "x = 20\n",
    "y = 15\n",
    "print(\"X is equal to Y:\", x == y)\n",
    "print(\"X is not equal to Y:\", x != y)\n",
    "print(\"X is Greater than Y:\",x > y)\n",
    "print(\"X is Less than Y:\",x < y)\n",
    "print(\"X is Greater than or equal to Y:\",x >= y)\n",
    "print(\"X is Less than or equal to Y:\",x <= y)"
   ]
  },
  {
   "cell_type": "markdown",
   "metadata": {},
   "source": [
    "### Program 4"
   ]
  },
  {
   "cell_type": "code",
   "execution_count": 5,
   "metadata": {},
   "outputs": [
    {
     "name": "stdout",
     "output_type": "stream",
     "text": [
      "True\n",
      "True\n",
      "False\n"
     ]
    }
   ],
   "source": [
    "x = 15\n",
    "print(x > 13 and x < 20)\n",
    "x = 25\n",
    "print(x > 23 or x < 24)\n",
    "x = 35\n",
    "print(not(x > 33 and x < 40))"
   ]
  },
  {
   "cell_type": "markdown",
   "metadata": {},
   "source": [
    "### Program 5"
   ]
  },
  {
   "cell_type": "code",
   "execution_count": 6,
   "metadata": {},
   "outputs": [
    {
     "name": "stdout",
     "output_type": "stream",
     "text": [
      "True\n",
      "False\n",
      "True\n"
     ]
    }
   ],
   "source": [
    "x = [\"ahmed\", \"bashir\"]\n",
    "y = [\"ahmed\", \"bashir\"]\n",
    "z = x\n",
    "print(x is z)\n",
    "print(x is y)\n",
    "print(x == y)"
   ]
  },
  {
   "cell_type": "markdown",
   "metadata": {},
   "source": [
    "### Program 6"
   ]
  },
  {
   "cell_type": "code",
   "execution_count": 8,
   "metadata": {},
   "outputs": [
    {
     "name": "stdout",
     "output_type": "stream",
     "text": [
      "False\n",
      "True\n",
      "False\n"
     ]
    }
   ],
   "source": [
    "x = [\"ahmed\", \"bashir\"]\n",
    "y = [\"ahmed\", \"bashir\"]\n",
    "z = x\n",
    "print(x is not z)\n",
    "print(x is not y)\n",
    "print(x != y)"
   ]
  },
  {
   "cell_type": "markdown",
   "metadata": {},
   "source": [
    "### Program 7"
   ]
  },
  {
   "cell_type": "code",
   "execution_count": 9,
   "metadata": {},
   "outputs": [
    {
     "name": "stdout",
     "output_type": "stream",
     "text": [
      "True\n"
     ]
    }
   ],
   "source": [
    "x = [\"wasim\", \"lubaid\", \"shahroz\", \"usman\", \"faisal\", \"farhan\"]\n",
    "print(\"faisal\" in x)"
   ]
  },
  {
   "cell_type": "markdown",
   "metadata": {},
   "source": [
    "### Program 8"
   ]
  },
  {
   "cell_type": "code",
   "execution_count": 10,
   "metadata": {},
   "outputs": [
    {
     "name": "stdout",
     "output_type": "stream",
     "text": [
      "True\n"
     ]
    }
   ],
   "source": [
    "x = [\"wasim\", \"lubaid\", \"shahroz\", \"usman\", \"faisal\", \"farhan\"]\n",
    "print(\"parkash\" not in x)"
   ]
  },
  {
   "cell_type": "markdown",
   "metadata": {},
   "source": [
    "### Program 9"
   ]
  },
  {
   "cell_type": "code",
   "execution_count": 11,
   "metadata": {},
   "outputs": [
    {
     "name": "stdout",
     "output_type": "stream",
     "text": [
      "Give me a velocity to fire at (in m/s): 9\n",
      "Give me an angle to fire at: 60\n",
      "Give me how far away you are from the structure: 7\n",
      "Give me the height of the structure (in meters): 6\n",
      "The final velocity is  14.387109998495673\n"
     ]
    }
   ],
   "source": [
    "import math\n",
    "# User inputs\n",
    "velocity = float(input('Give me a velocity to fire at (in m/s): '))\n",
    "angle = float(input('Give me an angle to fire at: '))\n",
    "distance = float(input('Give me how far away you are from the structure: '))\n",
    "height = float(input('Give me the height of the structure (in meters): '))\n",
    "slingshot = 5 #Height of slingshot in meters\n",
    "gravity = 9.8 #Earth gravity\n",
    "# Converting angles to radians\n",
    "angleRad = math.radians(angle)\n",
    "# Computing our x and y coordinate\n",
    "x = math.cos(angleRad)\n",
    "y = math.sin(angleRad)\n",
    "# Calculations\n",
    "time = distance/(velocity * x)\n",
    "vx = x\n",
    "vy = y + (-9.8 * time)\n",
    "finalVelocity = math.sqrt((vx ** 2) + (vy ** 2))\n",
    "print(\"The final velocity is \", finalVelocity)"
   ]
  },
  {
   "cell_type": "markdown",
   "metadata": {},
   "source": [
    "## Home Task"
   ]
  },
  {
   "cell_type": "markdown",
   "metadata": {},
   "source": [
    "### Q1 "
   ]
  },
  {
   "cell_type": "code",
   "execution_count": 3,
   "metadata": {},
   "outputs": [
    {
     "name": "stdout",
     "output_type": "stream",
     "text": [
      "Please enter the radius 0.5\n",
      "The linear velocity is 5.0m/s\n"
     ]
    }
   ],
   "source": [
    "rad = float(input(\"Please enter the radius \"))\n",
    "w = 10\n",
    "v = rad* w\n",
    "print(\"The linear velocity is \" + str(v)+ \"m/s\")"
   ]
  },
  {
   "cell_type": "markdown",
   "metadata": {},
   "source": [
    "### Q2"
   ]
  },
  {
   "cell_type": "code",
   "execution_count": 3,
   "metadata": {},
   "outputs": [
    {
     "name": "stdout",
     "output_type": "stream",
     "text": [
      "Please enter the radius in metres 5\n",
      "Thee linear velocity is 2616.666666666667m/s\n"
     ]
    }
   ],
   "source": [
    "rad = float(input(\"Please enter the radius in metres \"))\n",
    "w = 5000 # angular speed given in rev/min\n",
    "w =((w/60)*(6.28))\n",
    "v = rad * w\n",
    "print(\"Thee linear velocity is \" + str(v) +\"m/s\")"
   ]
  },
  {
   "cell_type": "markdown",
   "metadata": {},
   "source": [
    "### Q3"
   ]
  },
  {
   "cell_type": "code",
   "execution_count": 1,
   "metadata": {},
   "outputs": [
    {
     "name": "stdout",
     "output_type": "stream",
     "text": [
      "Please enter the radius in centimeters 30\n",
      "The angular velocity is 33.333333333333336rad/s\n"
     ]
    }
   ],
   "source": [
    "rad = float(input(\"Please enter the radius in centimeters \"))\n",
    "rad = rad / 100\n",
    "velocity = 10\n",
    "w = velocity / rad\n",
    "print(\"The angular velocity is \" +str(w)+ \"rad/s\")"
   ]
  },
  {
   "cell_type": "markdown",
   "metadata": {},
   "source": [
    "### Q4"
   ]
  },
  {
   "cell_type": "code",
   "execution_count": 2,
   "metadata": {},
   "outputs": [
    {
     "name": "stdout",
     "output_type": "stream",
     "text": [
      "Enter the diameter of the car's tire in centimeters 50\n",
      "The angular velocity of the tire is 40.0rad/s\n"
     ]
    }
   ],
   "source": [
    "diameter = float(input(\"Enter the diameter of the car's tire in centimeters \")) #calculates the angular speed\n",
    "rad = diameter / 2\n",
    "rad = rad /100\n",
    "dist = 10\n",
    "time = 1\n",
    "velocity = dist / time\n",
    "w = velocity / rad\n",
    "print(\"The angular velocity of the tire is \"+str(w)+ \"rad/s\")"
   ]
  },
  {
   "cell_type": "markdown",
   "metadata": {},
   "source": [
    "### Q5"
   ]
  },
  {
   "cell_type": "code",
   "execution_count": 4,
   "metadata": {},
   "outputs": [
    {
     "name": "stdout",
     "output_type": "stream",
     "text": [
      "Calculate the distance travelled by car when radius is 20cm , angular velocity = 120rpm and time = 10sec\n",
      "The distance travelled by car in 10sec is 25.120000000000005m\n"
     ]
    }
   ],
   "source": [
    "print(\"Calculate the distance travelled by car when radius is 20cm , angular velocity = 120rpm and time = 10sec\")\n",
    "rad = 20 #radius in cm\n",
    "rad = rad / 100\n",
    "w = 120 # angular velocity in reevolutions per minute\n",
    "w = (w /60)*(6.28)\n",
    "v = rad * w\n",
    "time = 10\n",
    "dist = v *time\n",
    "print(\"The distance travelled by car in 10sec is \"+str(dist)+ \"m\")"
   ]
  },
  {
   "cell_type": "markdown",
   "metadata": {},
   "source": [
    "### Q6"
   ]
  },
  {
   "cell_type": "code",
   "execution_count": 6,
   "metadata": {},
   "outputs": [
    {
     "name": "stdout",
     "output_type": "stream",
     "text": [
      "Calculates the final velocity when initial velocity is 50miles/hr , acc = 10 miles/hr^2 and time = 2sec\n",
      "The final velocity is 70miles/hr\n"
     ]
    }
   ],
   "source": [
    "print(\"Calculates the final velocity when initial velocity is 50miles/hr , acc = 10 miles/hr^2 and time = 2sec\")\n",
    "u = 50\n",
    "acc= 10\n",
    "time = 2\n",
    "v = u + (acc * time)\n",
    "print(\"The final velocity is \" + str(v) + \"miles/hr\")"
   ]
  },
  {
   "cell_type": "markdown",
   "metadata": {},
   "source": [
    "### Q7"
   ]
  },
  {
   "cell_type": "code",
   "execution_count": 7,
   "metadata": {},
   "outputs": [
    {
     "name": "stdout",
     "output_type": "stream",
     "text": [
      "A Stone is dropped freely from a height of 100 feet. With what velocity will it hit the ground?\n",
      "The velocity with which it will hit the ground is 80.0m/s\n"
     ]
    }
   ],
   "source": [
    "import math\n",
    "print(\"A Stone is dropped freely from a height of 100 feet. With what velocity will it hit the ground?\")\n",
    "s = 100\n",
    "a = 32\n",
    "v = 2 *a*s #since initial velocity(u) is 0 we'll ignore that\n",
    "v = math.sqrt(v)\n",
    "print(\"The velocity with which it will hit the ground is \"+str(v)+ \"m/s\")"
   ]
  },
  {
   "cell_type": "code",
   "execution_count": null,
   "metadata": {},
   "outputs": [],
   "source": []
  }
 ],
 "metadata": {
  "kernelspec": {
   "display_name": "Python 3",
   "language": "python",
   "name": "python3"
  },
  "language_info": {
   "codemirror_mode": {
    "name": "ipython",
    "version": 3
   },
   "file_extension": ".py",
   "mimetype": "text/x-python",
   "name": "python",
   "nbconvert_exporter": "python",
   "pygments_lexer": "ipython3",
   "version": "3.7.0"
  }
 },
 "nbformat": 4,
 "nbformat_minor": 2
}
